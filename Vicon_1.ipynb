{
 "cells": [
  {
   "cell_type": "code",
   "execution_count": 4,
   "id": "98bcb699-29af-460a-a10e-ef827c089e07",
   "metadata": {},
   "outputs": [
    {
     "name": "stdout",
     "output_type": "stream",
     "text": [
      "(1, 2, 3)\n"
     ]
    }
   ],
   "source": [
    "# Tuple \n",
    "# methods http://www.w3schools.com/python/python_ref_tuple.asp\n",
    "tuple_1 = (1,2,3)\n",
    "print(tuple_1)"
   ]
  },
  {
   "cell_type": "code",
   "execution_count": 7,
   "id": "6bcc6937-7412-46bd-a653-61f185de923d",
   "metadata": {},
   "outputs": [
    {
     "name": "stdout",
     "output_type": "stream",
     "text": [
      "1\n"
     ]
    }
   ],
   "source": [
    "# Tuple\n",
    "# methods http://www.w3schools.com/python/python_ref_tuple.asp\n",
    "tuple_1 = (1,2,3)\n",
    "print(tuple_1.index(2))\n"
   ]
  },
  {
   "cell_type": "code",
   "execution_count": 8,
   "id": "a04118fc-a160-4637-b4fa-c024b183c252",
   "metadata": {},
   "outputs": [
    {
     "name": "stdout",
     "output_type": "stream",
     "text": [
      "1\n",
      "2\n"
     ]
    }
   ],
   "source": [
    "# Tuple\n",
    "# methods http://www.w3schools.com/python/python_ref_tuple.asp\n",
    "tuple_1 =(1,2,3)\n",
    "print(tuple_1.index(2))\n",
    "print(tuple_1[1])"
   ]
  },
  {
   "cell_type": "code",
   "execution_count": 10,
   "id": "2eb50206-20da-49a5-9403-2fdaee4d9a82",
   "metadata": {},
   "outputs": [
    {
     "name": "stdout",
     "output_type": "stream",
     "text": [
      "index 1\n",
      "value 2\n"
     ]
    }
   ],
   "source": [
    "\n",
    "# Tuple\n",
    "# methods http://www.w3schools.com/python/python_ref_tuple.asp\n",
    "tuple_1 = (1,2,3)\n",
    "print('index', tuple_1.index(2))\n",
    "print('value', tuple_1[1])"
   ]
  },
  {
   "cell_type": "code",
   "execution_count": 12,
   "id": "7ef92c45-7848-47a6-923b-75987061ce0a",
   "metadata": {},
   "outputs": [
    {
     "name": "stdout",
     "output_type": "stream",
     "text": [
      "iphone-13\n",
      "2500\n"
     ]
    }
   ],
   "source": [
    "# Dict\n",
    "# methods http://www.w3schools.com/python/python_ref_tuple.asp\n",
    "dict_1 = {'phone': 'iphone-13', 'price': 2500}\n",
    "print(dict_1['phone'])\n",
    "print(dict_1['price'])"
   ]
  },
  {
   "cell_type": "code",
   "execution_count": null,
   "id": "f0ad57c8-7cb9-4594-bc1e-ac6aab823b94",
   "metadata": {},
   "outputs": [],
   "source": []
  }
 ],
 "metadata": {
  "kernelspec": {
   "display_name": "Python 3",
   "language": "python",
   "name": "python3"
  },
  "language_info": {
   "codemirror_mode": {
    "name": "ipython",
    "version": 3
   },
   "file_extension": ".py",
   "mimetype": "text/x-python",
   "name": "python",
   "nbconvert_exporter": "python",
   "pygments_lexer": "ipython3",
   "version": "3.8.8"
  }
 },
 "nbformat": 4,
 "nbformat_minor": 5
}
